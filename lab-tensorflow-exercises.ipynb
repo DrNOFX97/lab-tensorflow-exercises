{
 "cells": [
  {
   "cell_type": "markdown",
   "id": "3a5cebdd-8051-4e1d-83e0-b4acf1449c1c",
   "metadata": {},
   "source": [
    "# Tensorflow exercices"
   ]
  },
  {
   "cell_type": "markdown",
   "id": "9b7ac934-4d62-469e-8385-7cd0f9129f22",
   "metadata": {},
   "source": [
    "Exercise 1: Create a TensorFlow constant tensor with values [1, 2, 3, 4, 5]."
   ]
  },
  {
   "cell_type": "markdown",
   "id": "a6aebc47-b310-4d2e-8ac9-21ce00410cec",
   "metadata": {},
   "source": [
    "Exercise 2: Create a TensorFlow variable tensor initialized with zeros of shape (3, 3)."
   ]
  },
  {
   "cell_type": "markdown",
   "id": "e60991d8-79e7-48c5-8f28-6190f62a0ed3",
   "metadata": {},
   "source": [
    "Exercise 3: Perform matrix multiplication of two TensorFlow constant tensors A and B."
   ]
  },
  {
   "cell_type": "markdown",
   "id": "7fd7d031-c20b-48ee-82a9-227c9ce109ea",
   "metadata": {},
   "source": [
    "Exercise 4: Create a TensorFlow placeholder for a scalar value."
   ]
  },
  {
   "cell_type": "markdown",
   "id": "6ccf6ee2-3c4e-4ed1-822d-9843419936bb",
   "metadata": {},
   "source": [
    "Exercise 5: Define a TensorFlow operation to compute the element-wise product of two tensors."
   ]
  },
  {
   "cell_type": "markdown",
   "id": "87ca09f9-7976-4d21-b32d-94e25488ad59",
   "metadata": {},
   "source": [
    "Exercise 6: Create a TensorFlow graph to compute the mean of a given tensor along a specified axis."
   ]
  },
  {
   "cell_type": "markdown",
   "id": "51602021-3f03-4ab4-bdfc-fbc3dca0e321",
   "metadata": {},
   "source": [
    "Exercise 7: Implement a simple linear regression model using TensorFlow."
   ]
  },
  {
   "cell_type": "markdown",
   "id": "3abe932c-332d-48d9-a98d-64d98d3e7127",
   "metadata": {},
   "source": [
    "Exercise 8: Create a TensorFlow dataset from a NumPy array."
   ]
  },
  {
   "cell_type": "markdown",
   "id": "546d0040-6c83-430d-af7f-afadd22e03c2",
   "metadata": {},
   "source": [
    "Exercise 9: Define a custom TensorFlow function using tf.function decorator."
   ]
  },
  {
   "cell_type": "markdown",
   "id": "c9b39e03-dfea-42af-8821-fb950df430b1",
   "metadata": {},
   "source": [
    "Exercise 10: Load and preprocess an image using TensorFlow."
   ]
  },
  {
   "cell_type": "markdown",
   "id": "4a60fc5d-b32b-45df-8dca-696de227947f",
   "metadata": {},
   "source": [
    "Exercise 11: Neural Network\n",
    "Build and train a neural network with one hidden layer on the MNIST dataset."
   ]
  },
  {
   "cell_type": "code",
   "execution_count": null,
   "id": "fa4818c6-449d-4f26-8b81-fcc67789a5c2",
   "metadata": {},
   "outputs": [],
   "source": []
  }
 ],
 "metadata": {
  "kernelspec": {
   "display_name": "Python 3 (ipykernel)",
   "language": "python",
   "name": "python3"
  },
  "language_info": {
   "codemirror_mode": {
    "name": "ipython",
    "version": 3
   },
   "file_extension": ".py",
   "mimetype": "text/x-python",
   "name": "python",
   "nbconvert_exporter": "python",
   "pygments_lexer": "ipython3",
   "version": "3.11.8"
  }
 },
 "nbformat": 4,
 "nbformat_minor": 5
}
