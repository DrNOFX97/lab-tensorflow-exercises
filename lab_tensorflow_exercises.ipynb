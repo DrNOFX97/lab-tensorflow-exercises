{
  "cells": [
    {
      "cell_type": "markdown",
      "metadata": {
        "id": "view-in-github",
        "colab_type": "text"
      },
      "source": [
        "<a href=\"https://colab.research.google.com/github/DrNOFX97/lab-tensorflow-exercises/blob/main/lab_tensorflow_exercises.ipynb\" target=\"_parent\"><img src=\"https://colab.research.google.com/assets/colab-badge.svg\" alt=\"Open In Colab\"/></a>"
      ]
    },
    {
      "cell_type": "markdown",
      "id": "3a5cebdd-8051-4e1d-83e0-b4acf1449c1c",
      "metadata": {
        "id": "3a5cebdd-8051-4e1d-83e0-b4acf1449c1c"
      },
      "source": [
        "# Tensorflow exercices"
      ]
    },
    {
      "cell_type": "markdown",
      "id": "9b7ac934-4d62-469e-8385-7cd0f9129f22",
      "metadata": {
        "id": "9b7ac934-4d62-469e-8385-7cd0f9129f22"
      },
      "source": [
        "Exercise 1: Create a TensorFlow constant tensor with values [1, 2, 3, 4, 5]."
      ]
    },
    {
      "cell_type": "code",
      "source": [
        "import tensorflow as tf\n",
        "tensor = tf.constant([1, 2, 3, 4, 5])\n",
        "print(tensor)"
      ],
      "metadata": {
        "colab": {
          "base_uri": "https://localhost:8080/"
        },
        "id": "B6sPiVCAhLHi",
        "outputId": "0d99073d-25be-46b8-efd4-15d249a87536"
      },
      "id": "B6sPiVCAhLHi",
      "execution_count": 1,
      "outputs": [
        {
          "output_type": "stream",
          "name": "stdout",
          "text": [
            "tf.Tensor([1 2 3 4 5], shape=(5,), dtype=int32)\n"
          ]
        }
      ]
    },
    {
      "cell_type": "markdown",
      "id": "a6aebc47-b310-4d2e-8ac9-21ce00410cec",
      "metadata": {
        "id": "a6aebc47-b310-4d2e-8ac9-21ce00410cec"
      },
      "source": [
        "Exercise 2: Create a TensorFlow variable tensor initialized with zeros of shape (3, 3)."
      ]
    },
    {
      "cell_type": "code",
      "source": [
        "variable_tensor = tf.Variable(tf.zeros((3, 3)))\n",
        "print(variable_tensor)"
      ],
      "metadata": {
        "colab": {
          "base_uri": "https://localhost:8080/"
        },
        "id": "eLFnAChChPYh",
        "outputId": "082fbf1c-1acd-4f8e-8fa0-12368b18f0a3"
      },
      "id": "eLFnAChChPYh",
      "execution_count": 2,
      "outputs": [
        {
          "output_type": "stream",
          "name": "stdout",
          "text": [
            "<tf.Variable 'Variable:0' shape=(3, 3) dtype=float32, numpy=\n",
            "array([[0., 0., 0.],\n",
            "       [0., 0., 0.],\n",
            "       [0., 0., 0.]], dtype=float32)>\n"
          ]
        }
      ]
    },
    {
      "cell_type": "markdown",
      "id": "e60991d8-79e7-48c5-8f28-6190f62a0ed3",
      "metadata": {
        "id": "e60991d8-79e7-48c5-8f28-6190f62a0ed3"
      },
      "source": [
        "Exercise 3: Perform matrix multiplication of two TensorFlow constant tensors A and B."
      ]
    },
    {
      "cell_type": "code",
      "source": [
        "A = tf.constant([[1, 2], [3, 4]])\n",
        "B = tf.constant([[5, 6], [7, 8]])\n",
        "result = tf.matmul(A, B)\n",
        "print(result)"
      ],
      "metadata": {
        "colab": {
          "base_uri": "https://localhost:8080/"
        },
        "id": "K1rw8dzChShC",
        "outputId": "f170ef64-5ab7-4f6d-9d32-7d94f9b023c4"
      },
      "id": "K1rw8dzChShC",
      "execution_count": 3,
      "outputs": [
        {
          "output_type": "stream",
          "name": "stdout",
          "text": [
            "tf.Tensor(\n",
            "[[19 22]\n",
            " [43 50]], shape=(2, 2), dtype=int32)\n"
          ]
        }
      ]
    },
    {
      "cell_type": "markdown",
      "id": "7fd7d031-c20b-48ee-82a9-227c9ce109ea",
      "metadata": {
        "id": "7fd7d031-c20b-48ee-82a9-227c9ce109ea"
      },
      "source": [
        "Exercise 4: Create a TensorFlow placeholder for a scalar value."
      ]
    },
    {
      "cell_type": "code",
      "source": [
        "scalar = tf.constant(5.0)\n",
        "print(scalar)"
      ],
      "metadata": {
        "colab": {
          "base_uri": "https://localhost:8080/"
        },
        "id": "7gotiaaXhVrI",
        "outputId": "410ed9c4-af7a-4d8a-ee70-2f8b9c48e235"
      },
      "id": "7gotiaaXhVrI",
      "execution_count": 4,
      "outputs": [
        {
          "output_type": "stream",
          "name": "stdout",
          "text": [
            "tf.Tensor(5.0, shape=(), dtype=float32)\n"
          ]
        }
      ]
    },
    {
      "cell_type": "markdown",
      "id": "6ccf6ee2-3c4e-4ed1-822d-9843419936bb",
      "metadata": {
        "id": "6ccf6ee2-3c4e-4ed1-822d-9843419936bb"
      },
      "source": [
        "Exercise 5: Define a TensorFlow operation to compute the element-wise product of two tensors."
      ]
    },
    {
      "cell_type": "code",
      "source": [
        "tensor1 = tf.constant([1, 2, 3])\n",
        "tensor2 = tf.constant([4, 5, 6])\n",
        "elementwise_product = tf.multiply(tensor1, tensor2)\n",
        "print(elementwise_product)"
      ],
      "metadata": {
        "colab": {
          "base_uri": "https://localhost:8080/"
        },
        "id": "nw5sWIy5hZh5",
        "outputId": "d4434dee-2f3c-4a51-b681-85e0dc0ff360"
      },
      "id": "nw5sWIy5hZh5",
      "execution_count": 5,
      "outputs": [
        {
          "output_type": "stream",
          "name": "stdout",
          "text": [
            "tf.Tensor([ 4 10 18], shape=(3,), dtype=int32)\n"
          ]
        }
      ]
    },
    {
      "cell_type": "markdown",
      "id": "87ca09f9-7976-4d21-b32d-94e25488ad59",
      "metadata": {
        "id": "87ca09f9-7976-4d21-b32d-94e25488ad59"
      },
      "source": [
        "Exercise 6: Create a TensorFlow graph to compute the mean of a given tensor along a specified axis."
      ]
    },
    {
      "cell_type": "code",
      "source": [
        "tensor = tf.constant([[1, 2, 3], [4, 5, 6]])\n",
        "mean = tf.reduce_mean(tensor, axis=1)\n",
        "print(mean)"
      ],
      "metadata": {
        "colab": {
          "base_uri": "https://localhost:8080/"
        },
        "id": "-F9Y-tDOhZ0a",
        "outputId": "3dba1e24-5d86-4870-88f3-516ba16d5bc0"
      },
      "id": "-F9Y-tDOhZ0a",
      "execution_count": 6,
      "outputs": [
        {
          "output_type": "stream",
          "name": "stdout",
          "text": [
            "tf.Tensor([2 5], shape=(2,), dtype=int32)\n"
          ]
        }
      ]
    },
    {
      "cell_type": "markdown",
      "id": "51602021-3f03-4ab4-bdfc-fbc3dca0e321",
      "metadata": {
        "id": "51602021-3f03-4ab4-bdfc-fbc3dca0e321"
      },
      "source": [
        "Exercise 7: Implement a simple linear regression model using TensorFlow."
      ]
    },
    {
      "cell_type": "code",
      "source": [
        "import numpy as np\n",
        "\n",
        "# Generate some random data\n",
        "np.random.seed(0)\n",
        "X = np.random.rand(100, 1)\n",
        "y = 2 * X + 1 + np.random.randn(100, 1) * 0.1\n",
        "\n",
        "# Define model parameters\n",
        "W = tf.Variable(tf.random.normal([1]))\n",
        "b = tf.Variable(tf.random.normal([1]))\n",
        "\n",
        "# Define the model\n",
        "def linear_regression(x):\n",
        "    return W * x + b\n",
        "\n",
        "# Define loss function (Mean Squared Error)\n",
        "def loss(y_pred, y_true):\n",
        "    return tf.reduce_mean(tf.square(y_pred - y_true))\n",
        "\n",
        "# Define optimizer\n",
        "optimizer = tf.optimizers.SGD(learning_rate=0.01)\n",
        "\n",
        "# Training\n",
        "for epoch in range(100):\n",
        "    # Forward pass\n",
        "    with tf.GradientTape() as tape:\n",
        "        y_pred = linear_regression(X)\n",
        "        current_loss = loss(y_pred, y)\n",
        "    # Backward pass\n",
        "    gradients = tape.gradient(current_loss, [W, b])\n",
        "    # Update weights\n",
        "    optimizer.apply_gradients(zip(gradients, [W, b]))\n",
        "\n",
        "print(W.numpy(), b.numpy())"
      ],
      "metadata": {
        "colab": {
          "base_uri": "https://localhost:8080/"
        },
        "id": "YbUJUhamhaj5",
        "outputId": "92a6bd07-b5d5-4e39-deb2-06bd24b3f10a"
      },
      "id": "YbUJUhamhaj5",
      "execution_count": 7,
      "outputs": [
        {
          "output_type": "stream",
          "name": "stdout",
          "text": [
            "[1.1180489] [1.2402753]\n"
          ]
        }
      ]
    },
    {
      "cell_type": "markdown",
      "id": "3abe932c-332d-48d9-a98d-64d98d3e7127",
      "metadata": {
        "id": "3abe932c-332d-48d9-a98d-64d98d3e7127"
      },
      "source": [
        "Exercise 8: Create a TensorFlow dataset from a NumPy array."
      ]
    },
    {
      "cell_type": "code",
      "source": [
        "dataset = tf.data.Dataset.from_tensor_slices(np.array([1, 2, 3, 4, 5]))\n",
        "print(dataset)"
      ],
      "metadata": {
        "colab": {
          "base_uri": "https://localhost:8080/"
        },
        "id": "wQEBfdlJha5p",
        "outputId": "fdceb8c9-91ed-4446-ba4d-c732841abf7b"
      },
      "id": "wQEBfdlJha5p",
      "execution_count": 8,
      "outputs": [
        {
          "output_type": "stream",
          "name": "stdout",
          "text": [
            "<_TensorSliceDataset element_spec=TensorSpec(shape=(), dtype=tf.int64, name=None)>\n"
          ]
        }
      ]
    },
    {
      "cell_type": "markdown",
      "id": "546d0040-6c83-430d-af7f-afadd22e03c2",
      "metadata": {
        "id": "546d0040-6c83-430d-af7f-afadd22e03c2"
      },
      "source": [
        "Exercise 9: Define a custom TensorFlow function using tf.function decorator."
      ]
    },
    {
      "cell_type": "code",
      "source": [
        "@tf.function\n",
        "def custom_function(x):\n",
        "    return x * 2\n",
        "\n",
        "result = custom_function(5)\n",
        "print(result)"
      ],
      "metadata": {
        "colab": {
          "base_uri": "https://localhost:8080/"
        },
        "id": "FgNquXivhbPo",
        "outputId": "b3f88bc0-2fa6-477c-ae04-bb52c6d3c811"
      },
      "id": "FgNquXivhbPo",
      "execution_count": 9,
      "outputs": [
        {
          "output_type": "stream",
          "name": "stdout",
          "text": [
            "tf.Tensor(10, shape=(), dtype=int32)\n"
          ]
        }
      ]
    },
    {
      "cell_type": "markdown",
      "id": "c9b39e03-dfea-42af-8821-fb950df430b1",
      "metadata": {
        "id": "c9b39e03-dfea-42af-8821-fb950df430b1"
      },
      "source": [
        "Exercise 10: Load and preprocess an image using TensorFlow."
      ]
    },
    {
      "cell_type": "code",
      "source": [
        "import os\n",
        "import requests\n",
        "import numpy as np\n",
        "from tensorflow.keras.preprocessing.image import load_img, img_to_array\n",
        "from tensorflow.keras.applications.imagenet_utils import preprocess_input\n",
        "\n",
        "# Define the URL of the image you want to download\n",
        "image_url = \"https://drive.google.com/uc?id=1VZGor0hAsYpowU_kI8WIBspYGtoD8vww\"\n",
        "\n",
        "# Define the file name for the downloaded image\n",
        "image_filename = \"dogs.jpeg\"\n",
        "\n",
        "# Define the path to save the downloaded image\n",
        "image_path = os.path.join(\"/content\", image_filename)\n",
        "\n",
        "# Download the image from the URL\n",
        "response = requests.get(image_url)\n",
        "if response.status_code == 200:\n",
        "    with open(image_path, 'wb') as f:\n",
        "        f.write(response.content)\n",
        "    print(f\"Image successfully downloaded and saved to {image_path}\")\n",
        "else:\n",
        "    print(f\"Failed to download the image. Status code: {response.status_code}\")\n",
        "\n",
        "# Define the path to the downloaded image\n",
        "image_path = os.path.join(os.getcwd(), image_filename)\n",
        "\n",
        "# Load and preprocess the image using TensorFlow with ImageNet preprocessing\n",
        "def load_and_preprocess_image(image_path):\n",
        "    image = load_img(image_path, target_size=(224, 224))\n",
        "    image_array = img_to_array(image)\n",
        "    image_array = np.expand_dims(image_array, axis=0)\n",
        "    image_array = preprocess_input(image_array)\n",
        "    return image_array\n",
        "\n",
        "try:\n",
        "    preprocessed_image = load_and_preprocess_image(image_path)\n",
        "    print(\"Shape of preprocessed image:\", preprocessed_image.shape)\n",
        "except FileNotFoundError:\n",
        "    print(\"File not found. Please ensure the image path is correct.\")"
      ],
      "metadata": {
        "colab": {
          "base_uri": "https://localhost:8080/"
        },
        "id": "REUxIHg-hb74",
        "outputId": "da7033c0-1fd2-4c3a-d924-a2f2de3a25d4"
      },
      "id": "REUxIHg-hb74",
      "execution_count": 15,
      "outputs": [
        {
          "output_type": "stream",
          "name": "stdout",
          "text": [
            "Image successfully downloaded and saved to /content/dogs.jpeg\n",
            "Shape of preprocessed image: (1, 224, 224, 3)\n"
          ]
        }
      ]
    },
    {
      "cell_type": "markdown",
      "id": "4a60fc5d-b32b-45df-8dca-696de227947f",
      "metadata": {
        "id": "4a60fc5d-b32b-45df-8dca-696de227947f"
      },
      "source": [
        "Exercise 11: Neural Network\n",
        "Build and train a neural network with one hidden layer on the MNIST dataset."
      ]
    },
    {
      "cell_type": "code",
      "execution_count": 12,
      "id": "fa4818c6-449d-4f26-8b81-fcc67789a5c2",
      "metadata": {
        "colab": {
          "base_uri": "https://localhost:8080/",
          "height": 589
        },
        "id": "fa4818c6-449d-4f26-8b81-fcc67789a5c2",
        "outputId": "1b77a291-fd88-4cf8-d3f3-ecb001b9b7a2"
      },
      "outputs": [
        {
          "output_type": "stream",
          "name": "stdout",
          "text": [
            "Epoch 1/5\n",
            "750/750 [==============================] - 11s 11ms/step - loss: 0.3346 - accuracy: 0.9057 - val_loss: 0.1884 - val_accuracy: 0.9472\n",
            "Epoch 2/5\n",
            "750/750 [==============================] - 10s 13ms/step - loss: 0.1540 - accuracy: 0.9559 - val_loss: 0.1320 - val_accuracy: 0.9617\n",
            "Epoch 3/5\n",
            "750/750 [==============================] - 4s 6ms/step - loss: 0.1070 - accuracy: 0.9691 - val_loss: 0.1151 - val_accuracy: 0.9687\n",
            "Epoch 4/5\n",
            "750/750 [==============================] - 4s 6ms/step - loss: 0.0802 - accuracy: 0.9774 - val_loss: 0.1064 - val_accuracy: 0.9673\n",
            "Epoch 5/5\n",
            "750/750 [==============================] - 4s 6ms/step - loss: 0.0640 - accuracy: 0.9819 - val_loss: 0.0988 - val_accuracy: 0.9710\n"
          ]
        },
        {
          "output_type": "display_data",
          "data": {
            "text/plain": [
              "<Figure size 1200x400 with 2 Axes>"
            ],
            "image/png": "[encoded data removed]"
          },
          "metadata": {}
        }
      ],
      "source": [
        "from tensorflow.keras.datasets import mnist\n",
        "from tensorflow.keras.models import Sequential\n",
        "from tensorflow.keras.layers import Dense, Flatten\n",
        "import matplotlib.pyplot as plt\n",
        "\n",
        "# Load MNIST dataset\n",
        "(train_images, train_labels), (test_images, test_labels) = mnist.load_data()\n",
        "\n",
        "# Preprocess data\n",
        "train_images = train_images.astype('float32') / 255.0\n",
        "test_images = test_images.astype('float32') / 255.0\n",
        "\n",
        "# Define the model\n",
        "model = Sequential([\n",
        "    Flatten(input_shape=(28, 28)),\n",
        "    Dense(128, activation='relu'),\n",
        "    Dense(10, activation='softmax')\n",
        "])\n",
        "\n",
        "# Compile the model\n",
        "model.compile(optimizer='adam',\n",
        "              loss='sparse_categorical_crossentropy',\n",
        "              metrics=['accuracy'])\n",
        "\n",
        "# Train the model\n",
        "history = model.fit(train_images, train_labels, epochs=5, batch_size=64, validation_split=0.2)\n",
        "\n",
        "# Extract loss and accuracy for both training and validation sets\n",
        "train_loss = history.history['loss']\n",
        "val_loss = history.history['val_loss']\n",
        "train_accuracy = history.history['accuracy']\n",
        "val_accuracy = history.history['val_accuracy']\n",
        "\n",
        "# Plot the training and validation loss\n",
        "plt.figure(figsize=(12, 4))\n",
        "\n",
        "plt.subplot(1, 2, 1)\n",
        "plt.plot(train_loss, label='Training Loss')\n",
        "plt.plot(val_loss, label='Validation Loss')\n",
        "plt.xlabel('Epochs')\n",
        "plt.ylabel('Loss')\n",
        "plt.title('Training and Validation Loss')\n",
        "plt.legend()\n",
        "\n",
        "# Plot the training and validation accuracy\n",
        "plt.subplot(1, 2, 2)\n",
        "plt.plot(train_accuracy, label='Training Accuracy')\n",
        "plt.plot(val_accuracy, label='Validation Accuracy')\n",
        "plt.xlabel('Epochs')\n",
        "plt.ylabel('Accuracy')\n",
        "plt.title('Training and Validation Accuracy')\n",
        "plt.legend()\n",
        "\n",
        "# Display the plots\n",
        "plt.show()\n"
      ]
    }
  ],
  "metadata": {
    "kernelspec": {
      "display_name": "Python 3 (ipykernel)",
      "language": "python",
      "name": "python3"
    },
    "language_info": {
      "codemirror_mode": {
        "name": "ipython",
        "version": 3
      },
      "file_extension": ".py",
      "mimetype": "text/x-python",
      "name": "python",
      "nbconvert_exporter": "python",
      "pygments_lexer": "ipython3",
      "version": "3.11.8"
    },
    "colab": {
      "provenance": [],
      "include_colab_link": true
    }
  },
  "nbformat": 4,
  "nbformat_minor": 5
}